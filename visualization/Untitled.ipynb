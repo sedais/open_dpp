{
 "cells": [
  {
   "cell_type": "code",
   "execution_count": 88,
   "id": "3c5cd01a-e0c2-415c-bad0-02c79e9b84f7",
   "metadata": {},
   "outputs": [
    {
     "name": "stdout",
     "output_type": "stream",
     "text": [
      "Requirement already satisfied: transformers in c:\\users\\a892215\\appdata\\local\\programs\\python\\python310\\lib\\site-packages (4.24.0)\n",
      "Requirement already satisfied: pyyaml>=5.1 in c:\\users\\a892215\\appdata\\local\\programs\\python\\python310\\lib\\site-packages (from transformers) (6.0)\n",
      "Requirement already satisfied: huggingface-hub<1.0,>=0.10.0 in c:\\users\\a892215\\appdata\\local\\programs\\python\\python310\\lib\\site-packages (from transformers) (0.11.1)\n",
      "Requirement already satisfied: packaging>=20.0 in c:\\users\\a892215\\appdata\\local\\programs\\python\\python310\\lib\\site-packages (from transformers) (21.3)\n",
      "Requirement already satisfied: numpy>=1.17 in c:\\users\\a892215\\appdata\\local\\programs\\python\\python310\\lib\\site-packages (from transformers) (1.23.5)\n",
      "Requirement already satisfied: filelock in c:\\users\\a892215\\appdata\\local\\programs\\python\\python310\\lib\\site-packages (from transformers) (3.8.0)\n",
      "Requirement already satisfied: tokenizers!=0.11.3,<0.14,>=0.11.1 in c:\\users\\a892215\\appdata\\local\\programs\\python\\python310\\lib\\site-packages (from transformers) (0.13.2)\n",
      "Requirement already satisfied: tqdm>=4.27 in c:\\users\\a892215\\appdata\\local\\programs\\python\\python310\\lib\\site-packages (from transformers) (4.64.1)\n",
      "Requirement already satisfied: requests in c:\\users\\a892215\\appdata\\local\\programs\\python\\python310\\lib\\site-packages (from transformers) (2.28.1)\n",
      "Requirement already satisfied: regex!=2019.12.17 in c:\\users\\a892215\\appdata\\local\\programs\\python\\python310\\lib\\site-packages (from transformers) (2022.10.31)\n",
      "Requirement already satisfied: typing-extensions>=3.7.4.3 in c:\\users\\a892215\\appdata\\local\\programs\\python\\python310\\lib\\site-packages (from huggingface-hub<1.0,>=0.10.0->transformers) (4.4.0)\n",
      "Requirement already satisfied: pyparsing!=3.0.5,>=2.0.2 in c:\\users\\a892215\\appdata\\local\\programs\\python\\python310\\lib\\site-packages (from packaging>=20.0->transformers) (3.0.9)\n",
      "Requirement already satisfied: colorama in c:\\users\\a892215\\appdata\\local\\programs\\python\\python310\\lib\\site-packages (from tqdm>=4.27->transformers) (0.4.6)\n",
      "Requirement already satisfied: charset-normalizer<3,>=2 in c:\\users\\a892215\\appdata\\local\\programs\\python\\python310\\lib\\site-packages (from requests->transformers) (2.1.1)\n",
      "Requirement already satisfied: idna<4,>=2.5 in c:\\users\\a892215\\appdata\\local\\programs\\python\\python310\\lib\\site-packages (from requests->transformers) (3.4)\n",
      "Requirement already satisfied: certifi>=2017.4.17 in c:\\users\\a892215\\appdata\\local\\programs\\python\\python310\\lib\\site-packages (from requests->transformers) (2022.9.24)\n",
      "Requirement already satisfied: urllib3<1.27,>=1.21.1 in c:\\users\\a892215\\appdata\\local\\programs\\python\\python310\\lib\\site-packages (from requests->transformers) (1.26.13)\n"
     ]
    }
   ],
   "source": [
    "!pip install transformers"
   ]
  },
  {
   "cell_type": "code",
   "execution_count": 91,
   "id": "d7c00ac1-c927-445e-881a-b5637da05870",
   "metadata": {},
   "outputs": [],
   "source": [
    "from transformers import pipeline"
   ]
  },
  {
   "cell_type": "code",
   "execution_count": 9,
   "id": "5d6bdcf8-e479-42be-baa2-339398549c17",
   "metadata": {},
   "outputs": [
    {
     "name": "stdout",
     "output_type": "stream",
     "text": [
      "Requirement already satisfied: nltk in c:\\users\\a892215\\appdata\\local\\programs\\python\\python310\\lib\\site-packages (3.8)\n",
      "Requirement already satisfied: click in c:\\users\\a892215\\appdata\\local\\programs\\python\\python310\\lib\\site-packages (from nltk) (8.1.3)\n",
      "Requirement already satisfied: joblib in c:\\users\\a892215\\appdata\\local\\programs\\python\\python310\\lib\\site-packages (from nltk) (1.2.0)\n",
      "Requirement already satisfied: regex>=2021.8.3 in c:\\users\\a892215\\appdata\\local\\programs\\python\\python310\\lib\\site-packages (from nltk) (2022.10.31)\n",
      "Requirement already satisfied: tqdm in c:\\users\\a892215\\appdata\\local\\programs\\python\\python310\\lib\\site-packages (from nltk) (4.64.1)\n",
      "Requirement already satisfied: colorama in c:\\users\\a892215\\appdata\\local\\programs\\python\\python310\\lib\\site-packages (from click->nltk) (0.4.6)\n"
     ]
    }
   ],
   "source": [
    "!pip install nltk"
   ]
  },
  {
   "cell_type": "code",
   "execution_count": 11,
   "id": "25fabed1-ebfd-4c54-900a-d5c2b2821446",
   "metadata": {},
   "outputs": [],
   "source": [
    "from nltk.tokenize import word_tokenize, sent_tokenize\n",
    "#from keybert import KeyBERT\n",
    "#from transformers import AutoTokenizer\n",
    "#from transformers import AutoModelForSequenceClassification\n",
    "#from scipy.special import softmax"
   ]
  },
  {
   "cell_type": "code",
   "execution_count": 1,
   "id": "0b9acdd9-5452-48b2-80a4-ac3c0010310e",
   "metadata": {},
   "outputs": [],
   "source": [
    "from youtube_api import get_youtube_data_from_mongo"
   ]
  },
  {
   "cell_type": "code",
   "execution_count": 2,
   "id": "17e654c1-7243-4aaa-9d7f-16aed3edb24f",
   "metadata": {},
   "outputs": [
    {
     "name": "stdout",
     "output_type": "stream",
     "text": [
      "in get content from mongo\n",
      "['ifixit_db', 'youtube_db', 'admin', 'local']\n",
      "                        _id     video_id            phone_name                                    transcript_list\n",
      "0  63a0c933c6a05b66b5df3b3f  Vk1CyqcIGsE  Apple iPhone 14 Plus  [on the outside the iPhone 14 looks just., lik...\n",
      "1  63a0c938c6a05b66b5df3b41  QlkC6_AiinU  Apple iPhone 14 Plus  [it's time to take apart the iPhone 14., plus ...\n",
      "2  63a0c93ec6a05b66b5df3b43  K2WhU77ihw8  Apple iPhone 14 Plus  [foreign., [Music]., with a new release of iPh...\n",
      "3  63a0c944c6a05b66b5df3b45  Vk1CyqcIGsE       Apple iPhone 14  [on the outside the iPhone 14 looks just., lik...\n",
      "4  63a0c949c6a05b66b5df3b47  K2WhU77ihw8       Apple iPhone 14  [foreign., [Music]., with a new release of iPh...\n"
     ]
    }
   ],
   "source": [
    "df = get_youtube_data_from_mongo()"
   ]
  },
  {
   "cell_type": "code",
   "execution_count": 4,
   "id": "4b9d2bda-9f10-48bb-93c9-2dea46c07677",
   "metadata": {},
   "outputs": [],
   "source": [
    "transcript_texts = []\n",
    "for index in df.index.values:\n",
    "    # print(data.iloc[index][\"facts_doc\"])\n",
    "    transcript_text = df.iloc[index][\"transcript_list\"]\n",
    "    transcript_text = '.'.join(transcript_text)\n",
    "    transcript_texts.append(transcript_text)\n",
    "df[\"text\"] = transcript_texts"
   ]
  },
  {
   "cell_type": "code",
   "execution_count": 5,
   "id": "1604857b-2d0c-4623-8060-77f535955fff",
   "metadata": {},
   "outputs": [
    {
     "data": {
      "text/html": [
       "<div>\n",
       "<style scoped>\n",
       "    .dataframe tbody tr th:only-of-type {\n",
       "        vertical-align: middle;\n",
       "    }\n",
       "\n",
       "    .dataframe tbody tr th {\n",
       "        vertical-align: top;\n",
       "    }\n",
       "\n",
       "    .dataframe thead th {\n",
       "        text-align: right;\n",
       "    }\n",
       "</style>\n",
       "<table border=\"1\" class=\"dataframe\">\n",
       "  <thead>\n",
       "    <tr style=\"text-align: right;\">\n",
       "      <th></th>\n",
       "      <th>_id</th>\n",
       "      <th>video_id</th>\n",
       "      <th>phone_name</th>\n",
       "      <th>transcript_list</th>\n",
       "      <th>text</th>\n",
       "    </tr>\n",
       "  </thead>\n",
       "  <tbody>\n",
       "    <tr>\n",
       "      <th>0</th>\n",
       "      <td>63a0c933c6a05b66b5df3b3f</td>\n",
       "      <td>Vk1CyqcIGsE</td>\n",
       "      <td>Apple iPhone 14 Plus</td>\n",
       "      <td>[on the outside the iPhone 14 looks just., lik...</td>\n",
       "      <td>on the outside the iPhone 14 looks just..like ...</td>\n",
       "    </tr>\n",
       "    <tr>\n",
       "      <th>1</th>\n",
       "      <td>63a0c938c6a05b66b5df3b41</td>\n",
       "      <td>QlkC6_AiinU</td>\n",
       "      <td>Apple iPhone 14 Plus</td>\n",
       "      <td>[it's time to take apart the iPhone 14., plus ...</td>\n",
       "      <td>it's time to take apart the iPhone 14..plus if...</td>\n",
       "    </tr>\n",
       "    <tr>\n",
       "      <th>2</th>\n",
       "      <td>63a0c93ec6a05b66b5df3b43</td>\n",
       "      <td>K2WhU77ihw8</td>\n",
       "      <td>Apple iPhone 14 Plus</td>\n",
       "      <td>[foreign., [Music]., with a new release of iPh...</td>\n",
       "      <td>foreign..[Music]..with a new release of iPhone...</td>\n",
       "    </tr>\n",
       "    <tr>\n",
       "      <th>3</th>\n",
       "      <td>63a0c944c6a05b66b5df3b45</td>\n",
       "      <td>Vk1CyqcIGsE</td>\n",
       "      <td>Apple iPhone 14</td>\n",
       "      <td>[on the outside the iPhone 14 looks just., lik...</td>\n",
       "      <td>on the outside the iPhone 14 looks just..like ...</td>\n",
       "    </tr>\n",
       "    <tr>\n",
       "      <th>4</th>\n",
       "      <td>63a0c949c6a05b66b5df3b47</td>\n",
       "      <td>K2WhU77ihw8</td>\n",
       "      <td>Apple iPhone 14</td>\n",
       "      <td>[foreign., [Music]., with a new release of iPh...</td>\n",
       "      <td>foreign..[Music]..with a new release of iPhone...</td>\n",
       "    </tr>\n",
       "    <tr>\n",
       "      <th>...</th>\n",
       "      <td>...</td>\n",
       "      <td>...</td>\n",
       "      <td>...</td>\n",
       "      <td>...</td>\n",
       "      <td>...</td>\n",
       "    </tr>\n",
       "    <tr>\n",
       "      <th>391</th>\n",
       "      <td>63a0d51dee9f54653290c579</td>\n",
       "      <td>T6WedCvm6W4</td>\n",
       "      <td>Apple iPhone 3G</td>\n",
       "      <td>[[Applause]., [Music]., hello everyone this is...</td>\n",
       "      <td>[Applause]..[Music]..hello everyone this is fa...</td>\n",
       "    </tr>\n",
       "    <tr>\n",
       "      <th>392</th>\n",
       "      <td>63a0d522ee9f54653290c57b</td>\n",
       "      <td>Q02W-JGkHFY</td>\n",
       "      <td>Apple iPhone 3G</td>\n",
       "      <td>[hi guys welcome back to another video., and i...</td>\n",
       "      <td>hi guys welcome back to another video..and in ...</td>\n",
       "    </tr>\n",
       "    <tr>\n",
       "      <th>393</th>\n",
       "      <td>63a0d528ee9f54653290c57d</td>\n",
       "      <td>2gqRHiSR1AE</td>\n",
       "      <td>Apple iPhone 1st Generation</td>\n",
       "      <td>[hi guys welcome back to another huge., video ...</td>\n",
       "      <td>hi guys welcome back to another huge..video in...</td>\n",
       "    </tr>\n",
       "    <tr>\n",
       "      <th>394</th>\n",
       "      <td>63a0d52eee9f54653290c57f</td>\n",
       "      <td>2pczEqPhioE</td>\n",
       "      <td>Apple iPhone 1st Generation</td>\n",
       "      <td>[hey guys it's PBK and today we're going., to ...</td>\n",
       "      <td>hey guys it's PBK and today we're going..to be...</td>\n",
       "    </tr>\n",
       "    <tr>\n",
       "      <th>395</th>\n",
       "      <td>63a0d533ee9f54653290c581</td>\n",
       "      <td>K2WhU77ihw8</td>\n",
       "      <td>Apple iPhone 1st Generation</td>\n",
       "      <td>[foreign., [Music]., with a new release of iPh...</td>\n",
       "      <td>foreign..[Music]..with a new release of iPhone...</td>\n",
       "    </tr>\n",
       "  </tbody>\n",
       "</table>\n",
       "<p>396 rows × 5 columns</p>\n",
       "</div>"
      ],
      "text/plain": [
       "                          _id  ...                                               text\n",
       "0    63a0c933c6a05b66b5df3b3f  ...  on the outside the iPhone 14 looks just..like ...\n",
       "1    63a0c938c6a05b66b5df3b41  ...  it's time to take apart the iPhone 14..plus if...\n",
       "2    63a0c93ec6a05b66b5df3b43  ...  foreign..[Music]..with a new release of iPhone...\n",
       "3    63a0c944c6a05b66b5df3b45  ...  on the outside the iPhone 14 looks just..like ...\n",
       "4    63a0c949c6a05b66b5df3b47  ...  foreign..[Music]..with a new release of iPhone...\n",
       "..                        ...  ...                                                ...\n",
       "391  63a0d51dee9f54653290c579  ...  [Applause]..[Music]..hello everyone this is fa...\n",
       "392  63a0d522ee9f54653290c57b  ...  hi guys welcome back to another video..and in ...\n",
       "393  63a0d528ee9f54653290c57d  ...  hi guys welcome back to another huge..video in...\n",
       "394  63a0d52eee9f54653290c57f  ...  hey guys it's PBK and today we're going..to be...\n",
       "395  63a0d533ee9f54653290c581  ...  foreign..[Music]..with a new release of iPhone...\n",
       "\n",
       "[396 rows x 5 columns]"
      ]
     },
     "execution_count": 5,
     "metadata": {},
     "output_type": "execute_result"
    }
   ],
   "source": [
    "df"
   ]
  },
  {
   "cell_type": "code",
   "execution_count": 33,
   "id": "d18783fb-7b8c-4501-a9fd-ae26a45a565e",
   "metadata": {},
   "outputs": [],
   "source": [
    "# df.loc[240, 'transcript_list']"
   ]
  },
  {
   "cell_type": "code",
   "execution_count": 30,
   "id": "1863f653-c8a8-44ba-8ee8-39d8a63badc4",
   "metadata": {},
   "outputs": [],
   "source": [
    "list = ['repair', 'healthy', 'battery', 'change', 'remove', 'removal', 'easy', 'hard', 'repair', 'repairability']\n",
    "doc_fairphone = df.loc[240,'transcript_list']\n",
    "doc_fairphone = ' '.join(doc_fairphone)"
   ]
  },
  {
   "cell_type": "code",
   "execution_count": 31,
   "id": "abc69236-746a-4c28-845a-984dae563c70",
   "metadata": {},
   "outputs": [
    {
     "data": {
      "text/plain": [
       "str"
      ]
     },
     "execution_count": 31,
     "metadata": {},
     "output_type": "execute_result"
    }
   ],
   "source": [
    "type(doc_fairphone)"
   ]
  },
  {
   "cell_type": "code",
   "execution_count": 32,
   "id": "728c9f2f-f0d6-4fc5-904e-ae88acd7d5f6",
   "metadata": {},
   "outputs": [
    {
     "name": "stdout",
     "output_type": "stream",
     "text": [
      "['software support and ease of repair this.', 'usually buying the phone is the easy.', \"is and you won't find a glued in battery.\", 'along with being easy to open you can.', 'repair i wanted to follow an official.', 'playlist with several repair videos.', 'really confusing an easy fix but still.', 'phone is designed to be simple to repair.', 'regardless i can remove the front camera.', 'down at the lower section i can remove.', 'years it is important that we remove any.', 'reasons for its removal is a phone.', 'companies really remove the headphone.', 'to remove the display there are eight.', 'seen any of my other terana repair.', \"phone and repairability hasn't taken.\", \"it's time to get it all reassembled a. process so easy just about anybody could.\", 'battery and back cover.', 'repairable smartphone with easy to.', \"mention a user replaceable battery isn't.\", 'just about ease of repair ability if.', 'even out camping you can just swap out a. battery in a few seconds and have a. fully charged phone.', 'checking out the teardown and repair.']\n"
     ]
    }
   ],
   "source": [
    "\n",
    "sentences_with_word = []\n",
    "for sen in sent_tokenize(doc_fairphone):\n",
    "    l = word_tokenize(sen)\n",
    "    \n",
    "    if len(set(l).intersection(list))>0:\n",
    "        sentences_with_word.append(sen)\n",
    "print(sentences_with_word)"
   ]
  },
  {
   "cell_type": "code",
   "execution_count": 36,
   "id": "3494c9df-bc7b-43b4-98bd-b2416114686c",
   "metadata": {},
   "outputs": [],
   "source": [
    "texts_reduced = []\n",
    "list = ['repair', 'healthy', 'battery', 'change', 'remove', 'removal', 'easy', 'hard', 'repair',\n",
    "                'repairability']"
   ]
  },
  {
   "cell_type": "code",
   "execution_count": 47,
   "id": "e16147a1-9e9e-41bc-9a02-4ad08144ac2d",
   "metadata": {},
   "outputs": [],
   "source": [
    "#df.iloc[105][\"text\"]"
   ]
  },
  {
   "cell_type": "code",
   "execution_count": 48,
   "id": "666956cf-8e86-4e6b-a75d-07127fb81546",
   "metadata": {},
   "outputs": [],
   "source": [
    "for sen in sent_tokenize(df.iloc[105][\"text\"]):\n",
    "        l = word_tokenize(sen)\n",
    "\n",
    "        if len(set(l).intersection(list)) > 0:\n",
    "            sentences_with_word.append(sen)\n",
    "            #print(sentences_with_word)\n"
   ]
  },
  {
   "cell_type": "code",
   "execution_count": 41,
   "id": "11361719-9114-414d-bf0d-007535f7cdb5",
   "metadata": {},
   "outputs": [
    {
     "ename": "ValueError",
     "evalue": "Length of values (2235) does not match length of index (396)",
     "output_type": "error",
     "traceback": [
      "\u001b[1;31m---------------------------------------------------------------------------\u001b[0m",
      "\u001b[1;31mValueError\u001b[0m                                Traceback (most recent call last)",
      "Cell \u001b[1;32mIn[41], line 12\u001b[0m\n\u001b[0;32m     10\u001b[0m             \u001b[38;5;66;03m#print(sentences_with_word)\u001b[39;00m\n\u001b[0;32m     11\u001b[0m         texts_reduced\u001b[38;5;241m.\u001b[39mappend(sentences_with_word)\n\u001b[1;32m---> 12\u001b[0m \u001b[43mdf\u001b[49m\u001b[43m[\u001b[49m\u001b[38;5;124;43m\"\u001b[39;49m\u001b[38;5;124;43mtext_reduced\u001b[39;49m\u001b[38;5;124;43m\"\u001b[39;49m\u001b[43m]\u001b[49m \u001b[38;5;241m=\u001b[39m texts_reduced\n",
      "File \u001b[1;32m~\\AppData\\Local\\Programs\\Python\\Python310\\lib\\site-packages\\pandas\\core\\frame.py:3978\u001b[0m, in \u001b[0;36mDataFrame.__setitem__\u001b[1;34m(self, key, value)\u001b[0m\n\u001b[0;32m   3975\u001b[0m     \u001b[38;5;28mself\u001b[39m\u001b[38;5;241m.\u001b[39m_setitem_array([key], value)\n\u001b[0;32m   3976\u001b[0m \u001b[38;5;28;01melse\u001b[39;00m:\n\u001b[0;32m   3977\u001b[0m     \u001b[38;5;66;03m# set column\u001b[39;00m\n\u001b[1;32m-> 3978\u001b[0m     \u001b[38;5;28;43mself\u001b[39;49m\u001b[38;5;241;43m.\u001b[39;49m\u001b[43m_set_item\u001b[49m\u001b[43m(\u001b[49m\u001b[43mkey\u001b[49m\u001b[43m,\u001b[49m\u001b[43m \u001b[49m\u001b[43mvalue\u001b[49m\u001b[43m)\u001b[49m\n",
      "File \u001b[1;32m~\\AppData\\Local\\Programs\\Python\\Python310\\lib\\site-packages\\pandas\\core\\frame.py:4172\u001b[0m, in \u001b[0;36mDataFrame._set_item\u001b[1;34m(self, key, value)\u001b[0m\n\u001b[0;32m   4162\u001b[0m \u001b[38;5;28;01mdef\u001b[39;00m \u001b[38;5;21m_set_item\u001b[39m(\u001b[38;5;28mself\u001b[39m, key, value) \u001b[38;5;241m-\u001b[39m\u001b[38;5;241m>\u001b[39m \u001b[38;5;28;01mNone\u001b[39;00m:\n\u001b[0;32m   4163\u001b[0m     \u001b[38;5;124;03m\"\"\"\u001b[39;00m\n\u001b[0;32m   4164\u001b[0m \u001b[38;5;124;03m    Add series to DataFrame in specified column.\u001b[39;00m\n\u001b[0;32m   4165\u001b[0m \n\u001b[1;32m   (...)\u001b[0m\n\u001b[0;32m   4170\u001b[0m \u001b[38;5;124;03m    ensure homogeneity.\u001b[39;00m\n\u001b[0;32m   4171\u001b[0m \u001b[38;5;124;03m    \"\"\"\u001b[39;00m\n\u001b[1;32m-> 4172\u001b[0m     value \u001b[38;5;241m=\u001b[39m \u001b[38;5;28;43mself\u001b[39;49m\u001b[38;5;241;43m.\u001b[39;49m\u001b[43m_sanitize_column\u001b[49m\u001b[43m(\u001b[49m\u001b[43mvalue\u001b[49m\u001b[43m)\u001b[49m\n\u001b[0;32m   4174\u001b[0m     \u001b[38;5;28;01mif\u001b[39;00m (\n\u001b[0;32m   4175\u001b[0m         key \u001b[38;5;129;01min\u001b[39;00m \u001b[38;5;28mself\u001b[39m\u001b[38;5;241m.\u001b[39mcolumns\n\u001b[0;32m   4176\u001b[0m         \u001b[38;5;129;01mand\u001b[39;00m value\u001b[38;5;241m.\u001b[39mndim \u001b[38;5;241m==\u001b[39m \u001b[38;5;241m1\u001b[39m\n\u001b[0;32m   4177\u001b[0m         \u001b[38;5;129;01mand\u001b[39;00m \u001b[38;5;129;01mnot\u001b[39;00m is_extension_array_dtype(value)\n\u001b[0;32m   4178\u001b[0m     ):\n\u001b[0;32m   4179\u001b[0m         \u001b[38;5;66;03m# broadcast across multiple columns if necessary\u001b[39;00m\n\u001b[0;32m   4180\u001b[0m         \u001b[38;5;28;01mif\u001b[39;00m \u001b[38;5;129;01mnot\u001b[39;00m \u001b[38;5;28mself\u001b[39m\u001b[38;5;241m.\u001b[39mcolumns\u001b[38;5;241m.\u001b[39mis_unique \u001b[38;5;129;01mor\u001b[39;00m \u001b[38;5;28misinstance\u001b[39m(\u001b[38;5;28mself\u001b[39m\u001b[38;5;241m.\u001b[39mcolumns, MultiIndex):\n",
      "File \u001b[1;32m~\\AppData\\Local\\Programs\\Python\\Python310\\lib\\site-packages\\pandas\\core\\frame.py:4912\u001b[0m, in \u001b[0;36mDataFrame._sanitize_column\u001b[1;34m(self, value)\u001b[0m\n\u001b[0;32m   4909\u001b[0m     \u001b[38;5;28;01mreturn\u001b[39;00m _reindex_for_setitem(Series(value), \u001b[38;5;28mself\u001b[39m\u001b[38;5;241m.\u001b[39mindex)\n\u001b[0;32m   4911\u001b[0m \u001b[38;5;28;01mif\u001b[39;00m is_list_like(value):\n\u001b[1;32m-> 4912\u001b[0m     \u001b[43mcom\u001b[49m\u001b[38;5;241;43m.\u001b[39;49m\u001b[43mrequire_length_match\u001b[49m\u001b[43m(\u001b[49m\u001b[43mvalue\u001b[49m\u001b[43m,\u001b[49m\u001b[43m \u001b[49m\u001b[38;5;28;43mself\u001b[39;49m\u001b[38;5;241;43m.\u001b[39;49m\u001b[43mindex\u001b[49m\u001b[43m)\u001b[49m\n\u001b[0;32m   4913\u001b[0m \u001b[38;5;28;01mreturn\u001b[39;00m sanitize_array(value, \u001b[38;5;28mself\u001b[39m\u001b[38;5;241m.\u001b[39mindex, copy\u001b[38;5;241m=\u001b[39m\u001b[38;5;28;01mTrue\u001b[39;00m, allow_2d\u001b[38;5;241m=\u001b[39m\u001b[38;5;28;01mTrue\u001b[39;00m)\n",
      "File \u001b[1;32m~\\AppData\\Local\\Programs\\Python\\Python310\\lib\\site-packages\\pandas\\core\\common.py:561\u001b[0m, in \u001b[0;36mrequire_length_match\u001b[1;34m(data, index)\u001b[0m\n\u001b[0;32m    557\u001b[0m \u001b[38;5;124;03m\"\"\"\u001b[39;00m\n\u001b[0;32m    558\u001b[0m \u001b[38;5;124;03mCheck the length of data matches the length of the index.\u001b[39;00m\n\u001b[0;32m    559\u001b[0m \u001b[38;5;124;03m\"\"\"\u001b[39;00m\n\u001b[0;32m    560\u001b[0m \u001b[38;5;28;01mif\u001b[39;00m \u001b[38;5;28mlen\u001b[39m(data) \u001b[38;5;241m!=\u001b[39m \u001b[38;5;28mlen\u001b[39m(index):\n\u001b[1;32m--> 561\u001b[0m     \u001b[38;5;28;01mraise\u001b[39;00m \u001b[38;5;167;01mValueError\u001b[39;00m(\n\u001b[0;32m    562\u001b[0m         \u001b[38;5;124m\"\u001b[39m\u001b[38;5;124mLength of values \u001b[39m\u001b[38;5;124m\"\u001b[39m\n\u001b[0;32m    563\u001b[0m         \u001b[38;5;124mf\u001b[39m\u001b[38;5;124m\"\u001b[39m\u001b[38;5;124m(\u001b[39m\u001b[38;5;132;01m{\u001b[39;00m\u001b[38;5;28mlen\u001b[39m(data)\u001b[38;5;132;01m}\u001b[39;00m\u001b[38;5;124m) \u001b[39m\u001b[38;5;124m\"\u001b[39m\n\u001b[0;32m    564\u001b[0m         \u001b[38;5;124m\"\u001b[39m\u001b[38;5;124mdoes not match length of index \u001b[39m\u001b[38;5;124m\"\u001b[39m\n\u001b[0;32m    565\u001b[0m         \u001b[38;5;124mf\u001b[39m\u001b[38;5;124m\"\u001b[39m\u001b[38;5;124m(\u001b[39m\u001b[38;5;132;01m{\u001b[39;00m\u001b[38;5;28mlen\u001b[39m(index)\u001b[38;5;132;01m}\u001b[39;00m\u001b[38;5;124m)\u001b[39m\u001b[38;5;124m\"\u001b[39m\n\u001b[0;32m    566\u001b[0m     )\n",
      "\u001b[1;31mValueError\u001b[0m: Length of values (2235) does not match length of index (396)"
     ]
    }
   ],
   "source": [
    "for index in df.index.values:\n",
    "    text = df.iloc[index][\"text\"]\n",
    "            \n",
    "    sentences_with_word = []\n",
    "    for sen in sent_tokenize(text):\n",
    "        l = word_tokenize(sen)\n",
    "\n",
    "        if len(set(l).intersection(list)) > 0:\n",
    "            sentences_with_word.append(sen)\n",
    "            #print(sentences_with_word)\n",
    "        texts_reduced.append(sentences_with_word)\n",
    "df[\"text_reduced\"] = texts_reduced"
   ]
  },
  {
   "cell_type": "code",
   "execution_count": 49,
   "id": "6a6a8ccb-4dd6-4ce3-a7c7-e1c04b214f57",
   "metadata": {},
   "outputs": [],
   "source": [
    "list = ['repair', 'healthy', 'battery', 'change', 'remove', 'removal', 'easy', 'hard', 'repair', 'repairability']\n",
    "doc_fairphone = df.loc[240,'transcript_list']\n",
    "doc_fairphone = ' '.join(doc_fairphone)"
   ]
  },
  {
   "cell_type": "code",
   "execution_count": 50,
   "id": "e5af6bd1-3741-468d-b2c7-cc85cf0a14f9",
   "metadata": {},
   "outputs": [
    {
     "name": "stdout",
     "output_type": "stream",
     "text": [
      "['software support and ease of repair this.', 'usually buying the phone is the easy.', \"is and you won't find a glued in battery.\", 'along with being easy to open you can.', 'repair i wanted to follow an official.', 'playlist with several repair videos.', 'really confusing an easy fix but still.', 'phone is designed to be simple to repair.', 'regardless i can remove the front camera.', 'down at the lower section i can remove.', 'years it is important that we remove any.', 'reasons for its removal is a phone.', 'companies really remove the headphone.', 'to remove the display there are eight.', 'seen any of my other terana repair.', \"phone and repairability hasn't taken.\", \"it's time to get it all reassembled a. process so easy just about anybody could.\", 'battery and back cover.', 'repairable smartphone with easy to.', \"mention a user replaceable battery isn't.\", 'just about ease of repair ability if.', 'even out camping you can just swap out a. battery in a few seconds and have a. fully charged phone.', 'checking out the teardown and repair.']\n"
     ]
    }
   ],
   "source": [
    "sentences_with_word = []\n",
    "for sen in sent_tokenize(doc_fairphone):\n",
    "    l = word_tokenize(sen)\n",
    "    \n",
    "    if len(set(l).intersection(list))>0:\n",
    "        sentences_with_word.append(sen)\n",
    "print(sentences_with_word)"
   ]
  },
  {
   "cell_type": "code",
   "execution_count": 56,
   "id": "46121b25-6e0e-4d79-a8d9-3fd8516ca49d",
   "metadata": {},
   "outputs": [],
   "source": [
    "texts_reduced = []\n",
    "for index in df.index.values:\n",
    "    doc = df.loc[index, 'transcript_list']\n",
    "    doc = ' '.join(doc)\n",
    "    sentences_with_word = []\n",
    "    for sen in sent_tokenize(doc):\n",
    "        l = word_tokenize(sen)\n",
    "\n",
    "        if len(set(l).intersection(list)) > 0:\n",
    "            sentences_with_word.append(sen)\n",
    "            #print(sentences_with_word)\n",
    "    texts_reduced.append(sentences_with_word)\n",
    "df[\"text_reduced\"] = texts_reduced"
   ]
  },
  {
   "cell_type": "code",
   "execution_count": 57,
   "id": "f163d39c-78ab-4281-8568-b8badefe9957",
   "metadata": {},
   "outputs": [
    {
     "data": {
      "text/html": [
       "<div>\n",
       "<style scoped>\n",
       "    .dataframe tbody tr th:only-of-type {\n",
       "        vertical-align: middle;\n",
       "    }\n",
       "\n",
       "    .dataframe tbody tr th {\n",
       "        vertical-align: top;\n",
       "    }\n",
       "\n",
       "    .dataframe thead th {\n",
       "        text-align: right;\n",
       "    }\n",
       "</style>\n",
       "<table border=\"1\" class=\"dataframe\">\n",
       "  <thead>\n",
       "    <tr style=\"text-align: right;\">\n",
       "      <th></th>\n",
       "      <th>_id</th>\n",
       "      <th>video_id</th>\n",
       "      <th>phone_name</th>\n",
       "      <th>transcript_list</th>\n",
       "      <th>text</th>\n",
       "      <th>text_reduced</th>\n",
       "    </tr>\n",
       "  </thead>\n",
       "  <tbody>\n",
       "    <tr>\n",
       "      <th>0</th>\n",
       "      <td>63a0c933c6a05b66b5df3b3f</td>\n",
       "      <td>Vk1CyqcIGsE</td>\n",
       "      <td>Apple iPhone 14 Plus</td>\n",
       "      <td>[on the outside the iPhone 14 looks just., lik...</td>\n",
       "      <td>on the outside the iPhone 14 looks just..like ...</td>\n",
       "      <td>[third-party repair this week let's tear., run...</td>\n",
       "    </tr>\n",
       "    <tr>\n",
       "      <th>1</th>\n",
       "      <td>63a0c938c6a05b66b5df3b41</td>\n",
       "      <td>QlkC6_AiinU</td>\n",
       "      <td>Apple iPhone 14 Plus</td>\n",
       "      <td>[it's time to take apart the iPhone 14., plus ...</td>\n",
       "      <td>it's time to take apart the iPhone 14..plus if...</td>\n",
       "      <td>[if yours does make sure to remove that., at t...</td>\n",
       "    </tr>\n",
       "    <tr>\n",
       "      <th>2</th>\n",
       "      <td>63a0c93ec6a05b66b5df3b43</td>\n",
       "      <td>K2WhU77ihw8</td>\n",
       "      <td>Apple iPhone 14 Plus</td>\n",
       "      <td>[foreign., [Music]., with a new release of iPh...</td>\n",
       "      <td>foreign..[Music]..with a new release of iPhone...</td>\n",
       "      <td>[another tear down and repair assessment., for...</td>\n",
       "    </tr>\n",
       "    <tr>\n",
       "      <th>3</th>\n",
       "      <td>63a0c944c6a05b66b5df3b45</td>\n",
       "      <td>Vk1CyqcIGsE</td>\n",
       "      <td>Apple iPhone 14</td>\n",
       "      <td>[on the outside the iPhone 14 looks just., lik...</td>\n",
       "      <td>on the outside the iPhone 14 looks just..like ...</td>\n",
       "      <td>[third-party repair this week let's tear., run...</td>\n",
       "    </tr>\n",
       "    <tr>\n",
       "      <th>4</th>\n",
       "      <td>63a0c949c6a05b66b5df3b47</td>\n",
       "      <td>K2WhU77ihw8</td>\n",
       "      <td>Apple iPhone 14</td>\n",
       "      <td>[foreign., [Music]., with a new release of iPh...</td>\n",
       "      <td>foreign..[Music]..with a new release of iPhone...</td>\n",
       "      <td>[another tear down and repair assessment., for...</td>\n",
       "    </tr>\n",
       "    <tr>\n",
       "      <th>...</th>\n",
       "      <td>...</td>\n",
       "      <td>...</td>\n",
       "      <td>...</td>\n",
       "      <td>...</td>\n",
       "      <td>...</td>\n",
       "      <td>...</td>\n",
       "    </tr>\n",
       "    <tr>\n",
       "      <th>391</th>\n",
       "      <td>63a0d51dee9f54653290c579</td>\n",
       "      <td>T6WedCvm6W4</td>\n",
       "      <td>Apple iPhone 3G</td>\n",
       "      <td>[[Applause]., [Music]., hello everyone this is...</td>\n",
       "      <td>[Applause]..[Music]..hello everyone this is fa...</td>\n",
       "      <td>[thing is up against your face but I. could be...</td>\n",
       "    </tr>\n",
       "    <tr>\n",
       "      <th>392</th>\n",
       "      <td>63a0d522ee9f54653290c57b</td>\n",
       "      <td>Q02W-JGkHFY</td>\n",
       "      <td>Apple iPhone 3G</td>\n",
       "      <td>[hi guys welcome back to another video., and i...</td>\n",
       "      <td>hi guys welcome back to another video..and in ...</td>\n",
       "      <td>[housing a new screen a new battery as., relea...</td>\n",
       "    </tr>\n",
       "    <tr>\n",
       "      <th>393</th>\n",
       "      <td>63a0d528ee9f54653290c57d</td>\n",
       "      <td>2gqRHiSR1AE</td>\n",
       "      <td>Apple iPhone 1st Generation</td>\n",
       "      <td>[hi guys welcome back to another huge., video ...</td>\n",
       "      <td>hi guys welcome back to another huge..video in...</td>\n",
       "      <td>[remove both logic boards starting with., batt...</td>\n",
       "    </tr>\n",
       "    <tr>\n",
       "      <th>394</th>\n",
       "      <td>63a0d52eee9f54653290c57f</td>\n",
       "      <td>2pczEqPhioE</td>\n",
       "      <td>Apple iPhone 1st Generation</td>\n",
       "      <td>[hey guys it's PBK and today we're going., to ...</td>\n",
       "      <td>hey guys it's PBK and today we're going..to be...</td>\n",
       "      <td>[going to do you're going to remove these., yo...</td>\n",
       "    </tr>\n",
       "    <tr>\n",
       "      <th>395</th>\n",
       "      <td>63a0d533ee9f54653290c581</td>\n",
       "      <td>K2WhU77ihw8</td>\n",
       "      <td>Apple iPhone 1st Generation</td>\n",
       "      <td>[foreign., [Music]., with a new release of iPh...</td>\n",
       "      <td>foreign..[Music]..with a new release of iPhone...</td>\n",
       "      <td>[another tear down and repair assessment., for...</td>\n",
       "    </tr>\n",
       "  </tbody>\n",
       "</table>\n",
       "<p>396 rows × 6 columns</p>\n",
       "</div>"
      ],
      "text/plain": [
       "                          _id  ...                                       text_reduced\n",
       "0    63a0c933c6a05b66b5df3b3f  ...  [third-party repair this week let's tear., run...\n",
       "1    63a0c938c6a05b66b5df3b41  ...  [if yours does make sure to remove that., at t...\n",
       "2    63a0c93ec6a05b66b5df3b43  ...  [another tear down and repair assessment., for...\n",
       "3    63a0c944c6a05b66b5df3b45  ...  [third-party repair this week let's tear., run...\n",
       "4    63a0c949c6a05b66b5df3b47  ...  [another tear down and repair assessment., for...\n",
       "..                        ...  ...                                                ...\n",
       "391  63a0d51dee9f54653290c579  ...  [thing is up against your face but I. could be...\n",
       "392  63a0d522ee9f54653290c57b  ...  [housing a new screen a new battery as., relea...\n",
       "393  63a0d528ee9f54653290c57d  ...  [remove both logic boards starting with., batt...\n",
       "394  63a0d52eee9f54653290c57f  ...  [going to do you're going to remove these., yo...\n",
       "395  63a0d533ee9f54653290c581  ...  [another tear down and repair assessment., for...\n",
       "\n",
       "[396 rows x 6 columns]"
      ]
     },
     "execution_count": 57,
     "metadata": {},
     "output_type": "execute_result"
    }
   ],
   "source": [
    "df"
   ]
  },
  {
   "cell_type": "code",
   "execution_count": 62,
   "id": "c5d795d4-11ec-49bf-b207-6dd7a5d8f8a3",
   "metadata": {},
   "outputs": [],
   "source": [
    "data_subset = df[['video_id', 'phone_name', 'text_reduced']]\n",
    "#age_sex = titanic[[\"Age\", \"Sex\"]]"
   ]
  },
  {
   "cell_type": "code",
   "execution_count": 63,
   "id": "65026125-f369-4a1b-8956-e9d320507b68",
   "metadata": {},
   "outputs": [
    {
     "data": {
      "text/html": [
       "<div>\n",
       "<style scoped>\n",
       "    .dataframe tbody tr th:only-of-type {\n",
       "        vertical-align: middle;\n",
       "    }\n",
       "\n",
       "    .dataframe tbody tr th {\n",
       "        vertical-align: top;\n",
       "    }\n",
       "\n",
       "    .dataframe thead th {\n",
       "        text-align: right;\n",
       "    }\n",
       "</style>\n",
       "<table border=\"1\" class=\"dataframe\">\n",
       "  <thead>\n",
       "    <tr style=\"text-align: right;\">\n",
       "      <th></th>\n",
       "      <th>video_id</th>\n",
       "      <th>phone_name</th>\n",
       "      <th>text_reduced</th>\n",
       "    </tr>\n",
       "  </thead>\n",
       "  <tbody>\n",
       "    <tr>\n",
       "      <th>0</th>\n",
       "      <td>Vk1CyqcIGsE</td>\n",
       "      <td>Apple iPhone 14 Plus</td>\n",
       "      <td>[third-party repair this week let's tear., run...</td>\n",
       "    </tr>\n",
       "    <tr>\n",
       "      <th>1</th>\n",
       "      <td>QlkC6_AiinU</td>\n",
       "      <td>Apple iPhone 14 Plus</td>\n",
       "      <td>[if yours does make sure to remove that., at t...</td>\n",
       "    </tr>\n",
       "    <tr>\n",
       "      <th>2</th>\n",
       "      <td>K2WhU77ihw8</td>\n",
       "      <td>Apple iPhone 14 Plus</td>\n",
       "      <td>[another tear down and repair assessment., for...</td>\n",
       "    </tr>\n",
       "    <tr>\n",
       "      <th>3</th>\n",
       "      <td>Vk1CyqcIGsE</td>\n",
       "      <td>Apple iPhone 14</td>\n",
       "      <td>[third-party repair this week let's tear., run...</td>\n",
       "    </tr>\n",
       "    <tr>\n",
       "      <th>4</th>\n",
       "      <td>K2WhU77ihw8</td>\n",
       "      <td>Apple iPhone 14</td>\n",
       "      <td>[another tear down and repair assessment., for...</td>\n",
       "    </tr>\n",
       "    <tr>\n",
       "      <th>...</th>\n",
       "      <td>...</td>\n",
       "      <td>...</td>\n",
       "      <td>...</td>\n",
       "    </tr>\n",
       "    <tr>\n",
       "      <th>391</th>\n",
       "      <td>T6WedCvm6W4</td>\n",
       "      <td>Apple iPhone 3G</td>\n",
       "      <td>[thing is up against your face but I. could be...</td>\n",
       "    </tr>\n",
       "    <tr>\n",
       "      <th>392</th>\n",
       "      <td>Q02W-JGkHFY</td>\n",
       "      <td>Apple iPhone 3G</td>\n",
       "      <td>[housing a new screen a new battery as., relea...</td>\n",
       "    </tr>\n",
       "    <tr>\n",
       "      <th>393</th>\n",
       "      <td>2gqRHiSR1AE</td>\n",
       "      <td>Apple iPhone 1st Generation</td>\n",
       "      <td>[remove both logic boards starting with., batt...</td>\n",
       "    </tr>\n",
       "    <tr>\n",
       "      <th>394</th>\n",
       "      <td>2pczEqPhioE</td>\n",
       "      <td>Apple iPhone 1st Generation</td>\n",
       "      <td>[going to do you're going to remove these., yo...</td>\n",
       "    </tr>\n",
       "    <tr>\n",
       "      <th>395</th>\n",
       "      <td>K2WhU77ihw8</td>\n",
       "      <td>Apple iPhone 1st Generation</td>\n",
       "      <td>[another tear down and repair assessment., for...</td>\n",
       "    </tr>\n",
       "  </tbody>\n",
       "</table>\n",
       "<p>396 rows × 3 columns</p>\n",
       "</div>"
      ],
      "text/plain": [
       "        video_id                   phone_name                                       text_reduced\n",
       "0    Vk1CyqcIGsE         Apple iPhone 14 Plus  [third-party repair this week let's tear., run...\n",
       "1    QlkC6_AiinU         Apple iPhone 14 Plus  [if yours does make sure to remove that., at t...\n",
       "2    K2WhU77ihw8         Apple iPhone 14 Plus  [another tear down and repair assessment., for...\n",
       "3    Vk1CyqcIGsE              Apple iPhone 14  [third-party repair this week let's tear., run...\n",
       "4    K2WhU77ihw8              Apple iPhone 14  [another tear down and repair assessment., for...\n",
       "..           ...                          ...                                                ...\n",
       "391  T6WedCvm6W4              Apple iPhone 3G  [thing is up against your face but I. could be...\n",
       "392  Q02W-JGkHFY              Apple iPhone 3G  [housing a new screen a new battery as., relea...\n",
       "393  2gqRHiSR1AE  Apple iPhone 1st Generation  [remove both logic boards starting with., batt...\n",
       "394  2pczEqPhioE  Apple iPhone 1st Generation  [going to do you're going to remove these., yo...\n",
       "395  K2WhU77ihw8  Apple iPhone 1st Generation  [another tear down and repair assessment., for...\n",
       "\n",
       "[396 rows x 3 columns]"
      ]
     },
     "execution_count": 63,
     "metadata": {},
     "output_type": "execute_result"
    }
   ],
   "source": [
    "data_subset"
   ]
  },
  {
   "cell_type": "code",
   "execution_count": 68,
   "id": "1ebb19af-e08b-4038-8ae2-ac4bb036c13e",
   "metadata": {},
   "outputs": [],
   "source": [
    "phone_series = data_subset['phone_name']"
   ]
  },
  {
   "cell_type": "code",
   "execution_count": 69,
   "id": "cbe64750-67a6-4d63-80bc-5e225cf6d58c",
   "metadata": {},
   "outputs": [
    {
     "data": {
      "text/plain": [
       "pandas.core.series.Series"
      ]
     },
     "execution_count": 69,
     "metadata": {},
     "output_type": "execute_result"
    }
   ],
   "source": [
    "type(phone_series)"
   ]
  },
  {
   "cell_type": "code",
   "execution_count": 84,
   "id": "b05ed038-b5e5-4f41-921a-8a3d5f59943e",
   "metadata": {},
   "outputs": [],
   "source": [
    "no_dub = phone_series.drop_duplicates()"
   ]
  },
  {
   "cell_type": "code",
   "execution_count": 85,
   "id": "2d99895e-667c-4319-b807-a955b75adf56",
   "metadata": {},
   "outputs": [],
   "source": [
    "p_list= no_dub.tolist()"
   ]
  },
  {
   "cell_type": "code",
   "execution_count": 86,
   "id": "916cc5c1-9dbc-4e6a-936f-6ccc7b628790",
   "metadata": {},
   "outputs": [
    {
     "data": {
      "text/plain": [
       "['Apple iPhone 14 Plus',\n",
       " 'Apple iPhone 14',\n",
       " 'Apple iPhone 14 Pro',\n",
       " 'Apple iPhone 14 Pro Max',\n",
       " 'Samsung Galaxy S22',\n",
       " 'Samsung Galaxy S22 Ultra',\n",
       " 'Fairphone 4',\n",
       " 'Google Pixel 6',\n",
       " 'Google Pixel 6 Pro',\n",
       " 'Apple iPhone 13 Pro',\n",
       " 'Google Pixel 5a',\n",
       " 'Mi 11',\n",
       " 'Huawei Mate 40 Pro',\n",
       " 'Apple iPhone 12 Pro Max',\n",
       " 'Apple iPhone 12 mini',\n",
       " 'Apple iPhone 12 Pro',\n",
       " 'Google Pixel 5',\n",
       " 'Microsoft Surface Duo',\n",
       " 'Google Pixel 4a',\n",
       " 'Samsung Galaxy Note 20 Ultra',\n",
       " 'Apple iPhone SE 2020',\n",
       " 'Samsung Galaxy A51',\n",
       " 'Samsung Galaxy S20 Ultra',\n",
       " 'Samsung Galaxy Z Flip',\n",
       " 'Motorola razr',\n",
       " 'Google Pixel 4 XL',\n",
       " 'Apple iPhone 11',\n",
       " 'Apple iPhone 11 Pro Max',\n",
       " 'Fairphone 3',\n",
       " 'Samsung Galaxy Note10 Plus 5G',\n",
       " 'Shift 6m',\n",
       " 'Huawei Mate 20 X 5G',\n",
       " 'Google Pixel 3a',\n",
       " 'Google Pixel 3a XL',\n",
       " 'Samsung Galaxy Fold',\n",
       " 'Samsung Galaxy S10',\n",
       " 'Huawei Mate 20 Pro',\n",
       " 'Apple iPhone XR',\n",
       " 'Google Pixel 3 XL',\n",
       " 'Google Pixel 3',\n",
       " 'Apple iPhone XS',\n",
       " 'Nokia 8110 4G',\n",
       " 'LG G7 Thin Q',\n",
       " 'OnePlus 6',\n",
       " 'Huawei P20 Pro',\n",
       " 'Samsung Galaxy S9 Plus',\n",
       " 'Samsung Galaxy S9',\n",
       " 'Apple iPhone X',\n",
       " 'Google Pixel 2 XL',\n",
       " 'Google Pixel 2',\n",
       " 'Huawei Mate 10 Pro',\n",
       " 'Apple iPhone 8',\n",
       " 'Apple iPhone 8 Plus',\n",
       " 'Samsung Galaxy Note8',\n",
       " 'Essential Phone',\n",
       " 'Samsung Galaxy Note Fan Edition',\n",
       " 'OnePlus 5',\n",
       " 'Samsung Galaxy S8 Plus',\n",
       " 'Samsung Galaxy S8',\n",
       " 'LG G6',\n",
       " 'Huawei Mate 9',\n",
       " 'Google Pixel XL',\n",
       " 'Google Pixel',\n",
       " 'Apple iPhone 7',\n",
       " 'Apple iPhone 7 Plus',\n",
       " 'Sony Xperia X Compact',\n",
       " 'Moto Z',\n",
       " 'Samsung Galaxy Note7',\n",
       " 'Asus Zenfone 3 Max',\n",
       " 'Meizu MX6',\n",
       " 'LG G5',\n",
       " 'Vivo X7 Plus',\n",
       " 'Vivo X7',\n",
       " 'Huawei P9',\n",
       " 'Xiaomi Mi 5',\n",
       " 'Apple iPhone SE',\n",
       " 'Oppo R9m',\n",
       " 'Samsung Galaxy S7',\n",
       " 'Samsung Galaxy S7 Edge',\n",
       " 'Lenovo K5 Note',\n",
       " 'Fairphone 2',\n",
       " 'Huawei Mate 8',\n",
       " 'Xiaomi Redmi Note 3',\n",
       " 'Wiko Pulp 4G Phone',\n",
       " 'Apple iPhone 6s',\n",
       " 'Apple iPhone 6s Plus',\n",
       " 'Nexus 5X',\n",
       " 'Nexus 6P',\n",
       " 'OnePlus 2',\n",
       " 'Shift 5.1',\n",
       " 'LG G4',\n",
       " 'Samsung Galaxy S6',\n",
       " 'Samsung Galaxy S6 Edge',\n",
       " 'HTC One M9',\n",
       " 'Nexus 6',\n",
       " 'Apple iPhone 6 Plus',\n",
       " 'Apple iPhone 6',\n",
       " 'Samsung Galaxy Alpha',\n",
       " 'Amazon Fire Phone',\n",
       " 'Samsung Galaxy S5 Mini',\n",
       " 'OnePlus One',\n",
       " 'Samsung Galaxy S5',\n",
       " 'HTC One M8',\n",
       " 'Fairphone 1',\n",
       " 'Nexus 5',\n",
       " 'Apple iPhone 5c',\n",
       " 'Apple iPhone 5s',\n",
       " 'Motorola Moto X 1st Generation',\n",
       " 'Samsung Galaxy S4',\n",
       " 'HTC One',\n",
       " 'BlackBerry Z10',\n",
       " 'Nexus 4',\n",
       " 'Samsung Galaxy Note II',\n",
       " 'Apple iPhone 5',\n",
       " 'Samsung Galaxy S III',\n",
       " 'Motorola Droid 4',\n",
       " 'Samsung Galaxy Nexus',\n",
       " 'Motorola Droid RAZR',\n",
       " 'Apple iPhone 4S',\n",
       " 'Samsung Galaxy Note',\n",
       " 'Motorola Droid Bionic',\n",
       " 'Motorola Droid 3',\n",
       " 'Samsung Galaxy S II',\n",
       " 'Samsung Galaxy S 4G',\n",
       " 'Apple iPhone 4 Verizon',\n",
       " 'Motorola Atrix 4G',\n",
       " 'Nexus S',\n",
       " 'HTC Surround',\n",
       " 'Nokia N8',\n",
       " 'Apple iPhone 3GS',\n",
       " 'Apple iPhone 3G',\n",
       " 'Apple iPhone 1st Generation']"
      ]
     },
     "execution_count": 86,
     "metadata": {},
     "output_type": "execute_result"
    }
   ],
   "source": [
    "p_list"
   ]
  },
  {
   "cell_type": "code",
   "execution_count": null,
   "id": "9ff686e8-1f27-43de-8e84-184e4fd9bb28",
   "metadata": {},
   "outputs": [],
   "source": [
    "data_sentiment = data_subset['text_reduced']  "
   ]
  },
  {
   "cell_type": "code",
   "execution_count": null,
   "id": "8fefc68f-691c-4068-be13-95a906d1fa73",
   "metadata": {},
   "outputs": [],
   "source": [
    "sentiment1_list = []\n",
    "    for index in data_subset.index.values:\n",
    "        doc = data_subset.loc[index, 'text_reduced']\n",
    "        doc = ' '.join(doc)\n",
    "        sentences_with_word = []\n",
    "        for sen in sent_tokenize(doc):\n",
    "            l = word_tokenize(sen)\n",
    "\n",
    "            if len(set(l).intersection(list)) > 0:\n",
    "                sentences_with_word.append(sen)\n",
    "        # print(sentences_with_word)\n",
    "\n",
    "        texts_reduced.append(sentences_with_word)\n",
    "    data[\"text_reduced\"] = texts_reduced"
   ]
  },
  {
   "cell_type": "code",
   "execution_count": 93,
   "id": "43374635-0189-4d68-b8ea-7e56a52b73bc",
   "metadata": {},
   "outputs": [
    {
     "name": "stderr",
     "output_type": "stream",
     "text": [
      "No model was supplied, defaulted to distilbert-base-uncased-finetuned-sst-2-english and revision af0f99b (https://huggingface.co/distilbert-base-uncased-finetuned-sst-2-english).\n",
      "Using a pipeline without specifying a model name and revision in production is not recommended.\n"
     ]
    },
    {
     "ename": "RuntimeError",
     "evalue": "Failed to import transformers.models.distilbert.modeling_tf_distilbert because of the following error (look up to see its traceback):\nNo module named 'keras.saving.hdf5_format'",
     "output_type": "error",
     "traceback": [
      "\u001b[1;31m---------------------------------------------------------------------------\u001b[0m",
      "\u001b[1;31mModuleNotFoundError\u001b[0m                       Traceback (most recent call last)",
      "File \u001b[1;32m~\\AppData\\Local\\Programs\\Python\\Python310\\lib\\site-packages\\transformers\\utils\\import_utils.py:1076\u001b[0m, in \u001b[0;36m_LazyModule._get_module\u001b[1;34m(self, module_name)\u001b[0m\n\u001b[0;32m   1075\u001b[0m \u001b[38;5;28;01mtry\u001b[39;00m:\n\u001b[1;32m-> 1076\u001b[0m     \u001b[38;5;28;01mreturn\u001b[39;00m \u001b[43mimportlib\u001b[49m\u001b[38;5;241;43m.\u001b[39;49m\u001b[43mimport_module\u001b[49m\u001b[43m(\u001b[49m\u001b[38;5;124;43m\"\u001b[39;49m\u001b[38;5;124;43m.\u001b[39;49m\u001b[38;5;124;43m\"\u001b[39;49m\u001b[43m \u001b[49m\u001b[38;5;241;43m+\u001b[39;49m\u001b[43m \u001b[49m\u001b[43mmodule_name\u001b[49m\u001b[43m,\u001b[49m\u001b[43m \u001b[49m\u001b[38;5;28;43mself\u001b[39;49m\u001b[38;5;241;43m.\u001b[39;49m\u001b[38;5;18;43m__name__\u001b[39;49m\u001b[43m)\u001b[49m\n\u001b[0;32m   1077\u001b[0m \u001b[38;5;28;01mexcept\u001b[39;00m \u001b[38;5;167;01mException\u001b[39;00m \u001b[38;5;28;01mas\u001b[39;00m e:\n",
      "File \u001b[1;32m~\\AppData\\Local\\Programs\\Python\\Python310\\lib\\importlib\\__init__.py:126\u001b[0m, in \u001b[0;36mimport_module\u001b[1;34m(name, package)\u001b[0m\n\u001b[0;32m    125\u001b[0m         level \u001b[38;5;241m+\u001b[39m\u001b[38;5;241m=\u001b[39m \u001b[38;5;241m1\u001b[39m\n\u001b[1;32m--> 126\u001b[0m \u001b[38;5;28;01mreturn\u001b[39;00m \u001b[43m_bootstrap\u001b[49m\u001b[38;5;241;43m.\u001b[39;49m\u001b[43m_gcd_import\u001b[49m\u001b[43m(\u001b[49m\u001b[43mname\u001b[49m\u001b[43m[\u001b[49m\u001b[43mlevel\u001b[49m\u001b[43m:\u001b[49m\u001b[43m]\u001b[49m\u001b[43m,\u001b[49m\u001b[43m \u001b[49m\u001b[43mpackage\u001b[49m\u001b[43m,\u001b[49m\u001b[43m \u001b[49m\u001b[43mlevel\u001b[49m\u001b[43m)\u001b[49m\n",
      "File \u001b[1;32m<frozen importlib._bootstrap>:1050\u001b[0m, in \u001b[0;36m_gcd_import\u001b[1;34m(name, package, level)\u001b[0m\n",
      "File \u001b[1;32m<frozen importlib._bootstrap>:1027\u001b[0m, in \u001b[0;36m_find_and_load\u001b[1;34m(name, import_)\u001b[0m\n",
      "File \u001b[1;32m<frozen importlib._bootstrap>:1006\u001b[0m, in \u001b[0;36m_find_and_load_unlocked\u001b[1;34m(name, import_)\u001b[0m\n",
      "File \u001b[1;32m<frozen importlib._bootstrap>:688\u001b[0m, in \u001b[0;36m_load_unlocked\u001b[1;34m(spec)\u001b[0m\n",
      "File \u001b[1;32m<frozen importlib._bootstrap_external>:883\u001b[0m, in \u001b[0;36mexec_module\u001b[1;34m(self, module)\u001b[0m\n",
      "File \u001b[1;32m<frozen importlib._bootstrap>:241\u001b[0m, in \u001b[0;36m_call_with_frames_removed\u001b[1;34m(f, *args, **kwds)\u001b[0m\n",
      "File \u001b[1;32m~\\AppData\\Local\\Programs\\Python\\Python310\\lib\\site-packages\\transformers\\models\\distilbert\\modeling_tf_distilbert.py:34\u001b[0m\n\u001b[0;32m     26\u001b[0m \u001b[38;5;28;01mfrom\u001b[39;00m \u001b[38;5;21;01m.\u001b[39;00m\u001b[38;5;21;01m.\u001b[39;00m\u001b[38;5;21;01m.\u001b[39;00m\u001b[38;5;21;01mmodeling_tf_outputs\u001b[39;00m \u001b[38;5;28;01mimport\u001b[39;00m (\n\u001b[0;32m     27\u001b[0m     TFBaseModelOutput,\n\u001b[0;32m     28\u001b[0m     TFMaskedLMOutput,\n\u001b[1;32m   (...)\u001b[0m\n\u001b[0;32m     32\u001b[0m     TFTokenClassifierOutput,\n\u001b[0;32m     33\u001b[0m )\n\u001b[1;32m---> 34\u001b[0m \u001b[38;5;28;01mfrom\u001b[39;00m \u001b[38;5;21;01m.\u001b[39;00m\u001b[38;5;21;01m.\u001b[39;00m\u001b[38;5;21;01m.\u001b[39;00m\u001b[38;5;21;01mmodeling_tf_utils\u001b[39;00m \u001b[38;5;28;01mimport\u001b[39;00m (\n\u001b[0;32m     35\u001b[0m     TFMaskedLanguageModelingLoss,\n\u001b[0;32m     36\u001b[0m     TFModelInputType,\n\u001b[0;32m     37\u001b[0m     TFMultipleChoiceLoss,\n\u001b[0;32m     38\u001b[0m     TFPreTrainedModel,\n\u001b[0;32m     39\u001b[0m     TFQuestionAnsweringLoss,\n\u001b[0;32m     40\u001b[0m     TFSequenceClassificationLoss,\n\u001b[0;32m     41\u001b[0m     TFTokenClassificationLoss,\n\u001b[0;32m     42\u001b[0m     get_initializer,\n\u001b[0;32m     43\u001b[0m     keras_serializable,\n\u001b[0;32m     44\u001b[0m     unpack_inputs,\n\u001b[0;32m     45\u001b[0m )\n\u001b[0;32m     46\u001b[0m \u001b[38;5;28;01mfrom\u001b[39;00m \u001b[38;5;21;01m.\u001b[39;00m\u001b[38;5;21;01m.\u001b[39;00m\u001b[38;5;21;01m.\u001b[39;00m\u001b[38;5;21;01mtf_utils\u001b[39;00m \u001b[38;5;28;01mimport\u001b[39;00m shape_list, stable_softmax\n",
      "File \u001b[1;32m~\\AppData\\Local\\Programs\\Python\\Python310\\lib\\site-packages\\transformers\\modeling_tf_utils.py:39\u001b[0m\n\u001b[0;32m     38\u001b[0m \u001b[38;5;28;01mfrom\u001b[39;00m \u001b[38;5;21;01mhuggingface_hub\u001b[39;00m \u001b[38;5;28;01mimport\u001b[39;00m Repository, list_repo_files\n\u001b[1;32m---> 39\u001b[0m \u001b[38;5;28;01mfrom\u001b[39;00m \u001b[38;5;21;01mkeras\u001b[39;00m\u001b[38;5;21;01m.\u001b[39;00m\u001b[38;5;21;01msaving\u001b[39;00m\u001b[38;5;21;01m.\u001b[39;00m\u001b[38;5;21;01mhdf5_format\u001b[39;00m \u001b[38;5;28;01mimport\u001b[39;00m save_attributes_to_hdf5_group\n\u001b[0;32m     40\u001b[0m \u001b[38;5;28;01mfrom\u001b[39;00m \u001b[38;5;21;01mtransformers\u001b[39;00m\u001b[38;5;21;01m.\u001b[39;00m\u001b[38;5;21;01mutils\u001b[39;00m\u001b[38;5;21;01m.\u001b[39;00m\u001b[38;5;21;01mhub\u001b[39;00m \u001b[38;5;28;01mimport\u001b[39;00m convert_file_size_to_int, get_checkpoint_shard_files\n",
      "\u001b[1;31mModuleNotFoundError\u001b[0m: No module named 'keras.saving.hdf5_format'",
      "\nThe above exception was the direct cause of the following exception:\n",
      "\u001b[1;31mRuntimeError\u001b[0m                              Traceback (most recent call last)",
      "Cell \u001b[1;32mIn[93], line 1\u001b[0m\n\u001b[1;32m----> 1\u001b[0m sent_pipeline \u001b[38;5;241m=\u001b[39m \u001b[43mpipeline\u001b[49m\u001b[43m(\u001b[49m\u001b[38;5;124;43m\"\u001b[39;49m\u001b[38;5;124;43msentiment-analysis\u001b[39;49m\u001b[38;5;124;43m\"\u001b[39;49m\u001b[43m)\u001b[49m\n",
      "File \u001b[1;32m~\\AppData\\Local\\Programs\\Python\\Python310\\lib\\site-packages\\transformers\\pipelines\\__init__.py:727\u001b[0m, in \u001b[0;36mpipeline\u001b[1;34m(task, model, config, tokenizer, feature_extractor, framework, revision, use_fast, use_auth_token, device, device_map, torch_dtype, trust_remote_code, model_kwargs, pipeline_class, **kwargs)\u001b[0m\n\u001b[0;32m    723\u001b[0m \u001b[38;5;66;03m# Infer the framework from the model\u001b[39;00m\n\u001b[0;32m    724\u001b[0m \u001b[38;5;66;03m# Forced if framework already defined, inferred if it's None\u001b[39;00m\n\u001b[0;32m    725\u001b[0m \u001b[38;5;66;03m# Will load the correct model if possible\u001b[39;00m\n\u001b[0;32m    726\u001b[0m model_classes \u001b[38;5;241m=\u001b[39m {\u001b[38;5;124m\"\u001b[39m\u001b[38;5;124mtf\u001b[39m\u001b[38;5;124m\"\u001b[39m: targeted_task[\u001b[38;5;124m\"\u001b[39m\u001b[38;5;124mtf\u001b[39m\u001b[38;5;124m\"\u001b[39m], \u001b[38;5;124m\"\u001b[39m\u001b[38;5;124mpt\u001b[39m\u001b[38;5;124m\"\u001b[39m: targeted_task[\u001b[38;5;124m\"\u001b[39m\u001b[38;5;124mpt\u001b[39m\u001b[38;5;124m\"\u001b[39m]}\n\u001b[1;32m--> 727\u001b[0m framework, model \u001b[38;5;241m=\u001b[39m infer_framework_load_model(\n\u001b[0;32m    728\u001b[0m     model,\n\u001b[0;32m    729\u001b[0m     model_classes\u001b[38;5;241m=\u001b[39mmodel_classes,\n\u001b[0;32m    730\u001b[0m     config\u001b[38;5;241m=\u001b[39mconfig,\n\u001b[0;32m    731\u001b[0m     framework\u001b[38;5;241m=\u001b[39mframework,\n\u001b[0;32m    732\u001b[0m     task\u001b[38;5;241m=\u001b[39mtask,\n\u001b[0;32m    733\u001b[0m     \u001b[38;5;241m*\u001b[39m\u001b[38;5;241m*\u001b[39mhub_kwargs,\n\u001b[0;32m    734\u001b[0m     \u001b[38;5;241m*\u001b[39m\u001b[38;5;241m*\u001b[39mmodel_kwargs,\n\u001b[0;32m    735\u001b[0m )\n\u001b[0;32m    737\u001b[0m model_config \u001b[38;5;241m=\u001b[39m model\u001b[38;5;241m.\u001b[39mconfig\n\u001b[0;32m    738\u001b[0m hub_kwargs[\u001b[38;5;124m\"\u001b[39m\u001b[38;5;124m_commit_hash\u001b[39m\u001b[38;5;124m\"\u001b[39m] \u001b[38;5;241m=\u001b[39m model\u001b[38;5;241m.\u001b[39mconfig\u001b[38;5;241m.\u001b[39m_commit_hash\n",
      "File \u001b[1;32m~\\AppData\\Local\\Programs\\Python\\Python310\\lib\\site-packages\\transformers\\pipelines\\base.py:233\u001b[0m, in \u001b[0;36minfer_framework_load_model\u001b[1;34m(model, config, model_classes, task, framework, **model_kwargs)\u001b[0m\n\u001b[0;32m    231\u001b[0m         classes\u001b[38;5;241m.\u001b[39mappend(_class)\n\u001b[0;32m    232\u001b[0m \u001b[38;5;28;01mif\u001b[39;00m look_tf:\n\u001b[1;32m--> 233\u001b[0m     _class \u001b[38;5;241m=\u001b[39m \u001b[38;5;28;43mgetattr\u001b[39;49m\u001b[43m(\u001b[49m\u001b[43mtransformers_module\u001b[49m\u001b[43m,\u001b[49m\u001b[43m \u001b[49m\u001b[38;5;124;43mf\u001b[39;49m\u001b[38;5;124;43m\"\u001b[39;49m\u001b[38;5;124;43mTF\u001b[39;49m\u001b[38;5;132;43;01m{\u001b[39;49;00m\u001b[43marchitecture\u001b[49m\u001b[38;5;132;43;01m}\u001b[39;49;00m\u001b[38;5;124;43m\"\u001b[39;49m\u001b[43m,\u001b[49m\u001b[43m \u001b[49m\u001b[38;5;28;43;01mNone\u001b[39;49;00m\u001b[43m)\u001b[49m\n\u001b[0;32m    234\u001b[0m     \u001b[38;5;28;01mif\u001b[39;00m _class \u001b[38;5;129;01mis\u001b[39;00m \u001b[38;5;129;01mnot\u001b[39;00m \u001b[38;5;28;01mNone\u001b[39;00m:\n\u001b[0;32m    235\u001b[0m         classes\u001b[38;5;241m.\u001b[39mappend(_class)\n",
      "File \u001b[1;32m~\\AppData\\Local\\Programs\\Python\\Python310\\lib\\site-packages\\transformers\\utils\\import_utils.py:1067\u001b[0m, in \u001b[0;36m_LazyModule.__getattr__\u001b[1;34m(self, name)\u001b[0m\n\u001b[0;32m   1065\u001b[0m \u001b[38;5;28;01melif\u001b[39;00m name \u001b[38;5;129;01min\u001b[39;00m \u001b[38;5;28mself\u001b[39m\u001b[38;5;241m.\u001b[39m_class_to_module\u001b[38;5;241m.\u001b[39mkeys():\n\u001b[0;32m   1066\u001b[0m     module \u001b[38;5;241m=\u001b[39m \u001b[38;5;28mself\u001b[39m\u001b[38;5;241m.\u001b[39m_get_module(\u001b[38;5;28mself\u001b[39m\u001b[38;5;241m.\u001b[39m_class_to_module[name])\n\u001b[1;32m-> 1067\u001b[0m     value \u001b[38;5;241m=\u001b[39m \u001b[38;5;28;43mgetattr\u001b[39;49m\u001b[43m(\u001b[49m\u001b[43mmodule\u001b[49m\u001b[43m,\u001b[49m\u001b[43m \u001b[49m\u001b[43mname\u001b[49m\u001b[43m)\u001b[49m\n\u001b[0;32m   1068\u001b[0m \u001b[38;5;28;01melse\u001b[39;00m:\n\u001b[0;32m   1069\u001b[0m     \u001b[38;5;28;01mraise\u001b[39;00m \u001b[38;5;167;01mAttributeError\u001b[39;00m(\u001b[38;5;124mf\u001b[39m\u001b[38;5;124m\"\u001b[39m\u001b[38;5;124mmodule \u001b[39m\u001b[38;5;132;01m{\u001b[39;00m\u001b[38;5;28mself\u001b[39m\u001b[38;5;241m.\u001b[39m\u001b[38;5;18m__name__\u001b[39m\u001b[38;5;132;01m}\u001b[39;00m\u001b[38;5;124m has no attribute \u001b[39m\u001b[38;5;132;01m{\u001b[39;00mname\u001b[38;5;132;01m}\u001b[39;00m\u001b[38;5;124m\"\u001b[39m)\n",
      "File \u001b[1;32m~\\AppData\\Local\\Programs\\Python\\Python310\\lib\\site-packages\\transformers\\utils\\import_utils.py:1066\u001b[0m, in \u001b[0;36m_LazyModule.__getattr__\u001b[1;34m(self, name)\u001b[0m\n\u001b[0;32m   1064\u001b[0m     value \u001b[38;5;241m=\u001b[39m \u001b[38;5;28mself\u001b[39m\u001b[38;5;241m.\u001b[39m_get_module(name)\n\u001b[0;32m   1065\u001b[0m \u001b[38;5;28;01melif\u001b[39;00m name \u001b[38;5;129;01min\u001b[39;00m \u001b[38;5;28mself\u001b[39m\u001b[38;5;241m.\u001b[39m_class_to_module\u001b[38;5;241m.\u001b[39mkeys():\n\u001b[1;32m-> 1066\u001b[0m     module \u001b[38;5;241m=\u001b[39m \u001b[38;5;28;43mself\u001b[39;49m\u001b[38;5;241;43m.\u001b[39;49m\u001b[43m_get_module\u001b[49m\u001b[43m(\u001b[49m\u001b[38;5;28;43mself\u001b[39;49m\u001b[38;5;241;43m.\u001b[39;49m\u001b[43m_class_to_module\u001b[49m\u001b[43m[\u001b[49m\u001b[43mname\u001b[49m\u001b[43m]\u001b[49m\u001b[43m)\u001b[49m\n\u001b[0;32m   1067\u001b[0m     value \u001b[38;5;241m=\u001b[39m \u001b[38;5;28mgetattr\u001b[39m(module, name)\n\u001b[0;32m   1068\u001b[0m \u001b[38;5;28;01melse\u001b[39;00m:\n",
      "File \u001b[1;32m~\\AppData\\Local\\Programs\\Python\\Python310\\lib\\site-packages\\transformers\\utils\\import_utils.py:1078\u001b[0m, in \u001b[0;36m_LazyModule._get_module\u001b[1;34m(self, module_name)\u001b[0m\n\u001b[0;32m   1076\u001b[0m     \u001b[38;5;28;01mreturn\u001b[39;00m importlib\u001b[38;5;241m.\u001b[39mimport_module(\u001b[38;5;124m\"\u001b[39m\u001b[38;5;124m.\u001b[39m\u001b[38;5;124m\"\u001b[39m \u001b[38;5;241m+\u001b[39m module_name, \u001b[38;5;28mself\u001b[39m\u001b[38;5;241m.\u001b[39m\u001b[38;5;18m__name__\u001b[39m)\n\u001b[0;32m   1077\u001b[0m \u001b[38;5;28;01mexcept\u001b[39;00m \u001b[38;5;167;01mException\u001b[39;00m \u001b[38;5;28;01mas\u001b[39;00m e:\n\u001b[1;32m-> 1078\u001b[0m     \u001b[38;5;28;01mraise\u001b[39;00m \u001b[38;5;167;01mRuntimeError\u001b[39;00m(\n\u001b[0;32m   1079\u001b[0m         \u001b[38;5;124mf\u001b[39m\u001b[38;5;124m\"\u001b[39m\u001b[38;5;124mFailed to import \u001b[39m\u001b[38;5;132;01m{\u001b[39;00m\u001b[38;5;28mself\u001b[39m\u001b[38;5;241m.\u001b[39m\u001b[38;5;18m__name__\u001b[39m\u001b[38;5;132;01m}\u001b[39;00m\u001b[38;5;124m.\u001b[39m\u001b[38;5;132;01m{\u001b[39;00mmodule_name\u001b[38;5;132;01m}\u001b[39;00m\u001b[38;5;124m because of the following error (look up to see its\u001b[39m\u001b[38;5;124m\"\u001b[39m\n\u001b[0;32m   1080\u001b[0m         \u001b[38;5;124mf\u001b[39m\u001b[38;5;124m\"\u001b[39m\u001b[38;5;124m traceback):\u001b[39m\u001b[38;5;130;01m\\n\u001b[39;00m\u001b[38;5;132;01m{\u001b[39;00me\u001b[38;5;132;01m}\u001b[39;00m\u001b[38;5;124m\"\u001b[39m\n\u001b[0;32m   1081\u001b[0m     ) \u001b[38;5;28;01mfrom\u001b[39;00m \u001b[38;5;21;01me\u001b[39;00m\n",
      "\u001b[1;31mRuntimeError\u001b[0m: Failed to import transformers.models.distilbert.modeling_tf_distilbert because of the following error (look up to see its traceback):\nNo module named 'keras.saving.hdf5_format'"
     ]
    }
   ],
   "source": [
    "sent_pipeline = pipeline(\"sentiment-analysis\")"
   ]
  },
  {
   "cell_type": "code",
   "execution_count": 94,
   "id": "95e238fa-6f2a-414a-a161-52fd8d014f6e",
   "metadata": {},
   "outputs": [
    {
     "data": {
      "text/html": [
       "<div>\n",
       "<style scoped>\n",
       "    .dataframe tbody tr th:only-of-type {\n",
       "        vertical-align: middle;\n",
       "    }\n",
       "\n",
       "    .dataframe tbody tr th {\n",
       "        vertical-align: top;\n",
       "    }\n",
       "\n",
       "    .dataframe thead th {\n",
       "        text-align: right;\n",
       "    }\n",
       "</style>\n",
       "<table border=\"1\" class=\"dataframe\">\n",
       "  <thead>\n",
       "    <tr style=\"text-align: right;\">\n",
       "      <th></th>\n",
       "      <th>video_id</th>\n",
       "      <th>phone_name</th>\n",
       "      <th>text_reduced</th>\n",
       "    </tr>\n",
       "  </thead>\n",
       "  <tbody>\n",
       "    <tr>\n",
       "      <th>0</th>\n",
       "      <td>Vk1CyqcIGsE</td>\n",
       "      <td>Apple iPhone 14 Plus</td>\n",
       "      <td>[third-party repair this week let's tear., run...</td>\n",
       "    </tr>\n",
       "    <tr>\n",
       "      <th>1</th>\n",
       "      <td>QlkC6_AiinU</td>\n",
       "      <td>Apple iPhone 14 Plus</td>\n",
       "      <td>[if yours does make sure to remove that., at t...</td>\n",
       "    </tr>\n",
       "    <tr>\n",
       "      <th>2</th>\n",
       "      <td>K2WhU77ihw8</td>\n",
       "      <td>Apple iPhone 14 Plus</td>\n",
       "      <td>[another tear down and repair assessment., for...</td>\n",
       "    </tr>\n",
       "    <tr>\n",
       "      <th>3</th>\n",
       "      <td>Vk1CyqcIGsE</td>\n",
       "      <td>Apple iPhone 14</td>\n",
       "      <td>[third-party repair this week let's tear., run...</td>\n",
       "    </tr>\n",
       "    <tr>\n",
       "      <th>4</th>\n",
       "      <td>K2WhU77ihw8</td>\n",
       "      <td>Apple iPhone 14</td>\n",
       "      <td>[another tear down and repair assessment., for...</td>\n",
       "    </tr>\n",
       "    <tr>\n",
       "      <th>...</th>\n",
       "      <td>...</td>\n",
       "      <td>...</td>\n",
       "      <td>...</td>\n",
       "    </tr>\n",
       "    <tr>\n",
       "      <th>391</th>\n",
       "      <td>T6WedCvm6W4</td>\n",
       "      <td>Apple iPhone 3G</td>\n",
       "      <td>[thing is up against your face but I. could be...</td>\n",
       "    </tr>\n",
       "    <tr>\n",
       "      <th>392</th>\n",
       "      <td>Q02W-JGkHFY</td>\n",
       "      <td>Apple iPhone 3G</td>\n",
       "      <td>[housing a new screen a new battery as., relea...</td>\n",
       "    </tr>\n",
       "    <tr>\n",
       "      <th>393</th>\n",
       "      <td>2gqRHiSR1AE</td>\n",
       "      <td>Apple iPhone 1st Generation</td>\n",
       "      <td>[remove both logic boards starting with., batt...</td>\n",
       "    </tr>\n",
       "    <tr>\n",
       "      <th>394</th>\n",
       "      <td>2pczEqPhioE</td>\n",
       "      <td>Apple iPhone 1st Generation</td>\n",
       "      <td>[going to do you're going to remove these., yo...</td>\n",
       "    </tr>\n",
       "    <tr>\n",
       "      <th>395</th>\n",
       "      <td>K2WhU77ihw8</td>\n",
       "      <td>Apple iPhone 1st Generation</td>\n",
       "      <td>[another tear down and repair assessment., for...</td>\n",
       "    </tr>\n",
       "  </tbody>\n",
       "</table>\n",
       "<p>396 rows × 3 columns</p>\n",
       "</div>"
      ],
      "text/plain": [
       "        video_id                   phone_name                                       text_reduced\n",
       "0    Vk1CyqcIGsE         Apple iPhone 14 Plus  [third-party repair this week let's tear., run...\n",
       "1    QlkC6_AiinU         Apple iPhone 14 Plus  [if yours does make sure to remove that., at t...\n",
       "2    K2WhU77ihw8         Apple iPhone 14 Plus  [another tear down and repair assessment., for...\n",
       "3    Vk1CyqcIGsE              Apple iPhone 14  [third-party repair this week let's tear., run...\n",
       "4    K2WhU77ihw8              Apple iPhone 14  [another tear down and repair assessment., for...\n",
       "..           ...                          ...                                                ...\n",
       "391  T6WedCvm6W4              Apple iPhone 3G  [thing is up against your face but I. could be...\n",
       "392  Q02W-JGkHFY              Apple iPhone 3G  [housing a new screen a new battery as., relea...\n",
       "393  2gqRHiSR1AE  Apple iPhone 1st Generation  [remove both logic boards starting with., batt...\n",
       "394  2pczEqPhioE  Apple iPhone 1st Generation  [going to do you're going to remove these., yo...\n",
       "395  K2WhU77ihw8  Apple iPhone 1st Generation  [another tear down and repair assessment., for...\n",
       "\n",
       "[396 rows x 3 columns]"
      ]
     },
     "execution_count": 94,
     "metadata": {},
     "output_type": "execute_result"
    }
   ],
   "source": [
    "data_subset"
   ]
  },
  {
   "cell_type": "code",
   "execution_count": 99,
   "id": "c217267a-af95-40d8-990f-34a0f2655b1f",
   "metadata": {},
   "outputs": [],
   "source": [
    "for index in data_subset.index.values:\n",
    "    doc = data_subset.loc[index, 'text_reduced']\n",
    "    #print(doc)"
   ]
  },
  {
   "cell_type": "code",
   "execution_count": 100,
   "id": "2bc5a7a7-774e-42f0-b24e-01b8f5913913",
   "metadata": {},
   "outputs": [],
   "source": [
    "df_selected = data_subset[data_subset['phone_name'] == \"Apple iPhone 3G\"]\n"
   ]
  },
  {
   "cell_type": "code",
   "execution_count": 101,
   "id": "61456135-f786-493a-b35f-bcef6eca714b",
   "metadata": {},
   "outputs": [
    {
     "data": {
      "text/html": [
       "<div>\n",
       "<style scoped>\n",
       "    .dataframe tbody tr th:only-of-type {\n",
       "        vertical-align: middle;\n",
       "    }\n",
       "\n",
       "    .dataframe tbody tr th {\n",
       "        vertical-align: top;\n",
       "    }\n",
       "\n",
       "    .dataframe thead th {\n",
       "        text-align: right;\n",
       "    }\n",
       "</style>\n",
       "<table border=\"1\" class=\"dataframe\">\n",
       "  <thead>\n",
       "    <tr style=\"text-align: right;\">\n",
       "      <th></th>\n",
       "      <th>video_id</th>\n",
       "      <th>phone_name</th>\n",
       "      <th>text_reduced</th>\n",
       "    </tr>\n",
       "  </thead>\n",
       "  <tbody>\n",
       "    <tr>\n",
       "      <th>390</th>\n",
       "      <td>j5K2eizVbaY</td>\n",
       "      <td>Apple iPhone 3G</td>\n",
       "      <td>[In this video I'll show how to replace the\\ns...</td>\n",
       "    </tr>\n",
       "    <tr>\n",
       "      <th>391</th>\n",
       "      <td>T6WedCvm6W4</td>\n",
       "      <td>Apple iPhone 3G</td>\n",
       "      <td>[thing is up against your face but I. could be...</td>\n",
       "    </tr>\n",
       "    <tr>\n",
       "      <th>392</th>\n",
       "      <td>Q02W-JGkHFY</td>\n",
       "      <td>Apple iPhone 3G</td>\n",
       "      <td>[housing a new screen a new battery as., relea...</td>\n",
       "    </tr>\n",
       "  </tbody>\n",
       "</table>\n",
       "</div>"
      ],
      "text/plain": [
       "        video_id       phone_name                                       text_reduced\n",
       "390  j5K2eizVbaY  Apple iPhone 3G  [In this video I'll show how to replace the\\ns...\n",
       "391  T6WedCvm6W4  Apple iPhone 3G  [thing is up against your face but I. could be...\n",
       "392  Q02W-JGkHFY  Apple iPhone 3G  [housing a new screen a new battery as., relea..."
      ]
     },
     "execution_count": 101,
     "metadata": {},
     "output_type": "execute_result"
    }
   ],
   "source": [
    "df_selected"
   ]
  },
  {
   "cell_type": "code",
   "execution_count": null,
   "id": "18434fdf-69d8-4084-83de-b01a6a8a0a65",
   "metadata": {},
   "outputs": [],
   "source": []
  }
 ],
 "metadata": {
  "kernelspec": {
   "display_name": "Python 3 (ipykernel)",
   "language": "python",
   "name": "python3"
  },
  "language_info": {
   "codemirror_mode": {
    "name": "ipython",
    "version": 3
   },
   "file_extension": ".py",
   "mimetype": "text/x-python",
   "name": "python",
   "nbconvert_exporter": "python",
   "pygments_lexer": "ipython3",
   "version": "3.10.8"
  }
 },
 "nbformat": 4,
 "nbformat_minor": 5
}
